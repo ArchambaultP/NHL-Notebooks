{
 "cells": [
  {
   "cell_type": "code",
   "execution_count": 1,
   "id": "3c42a5e7-8183-4050-9f2f-aab63342fa18",
   "metadata": {},
   "outputs": [],
   "source": [
    "from milestone_3.features_dashboard import dashboard"
   ]
  },
  {
   "cell_type": "code",
   "execution_count": 2,
   "id": "e924bd2d",
   "metadata": {},
   "outputs": [
    {
     "data": {
      "application/vnd.jupyter.widget-view+json": {
       "model_id": "e40c62679db045269e6896138dd02c9a",
       "version_major": 2,
       "version_minor": 0
      },
      "text/plain": [
       "Box(children=(GridspecLayout(children=(Button(button_style='success', description='DOWNLOAD/SET Model', layout…"
      ]
     },
     "metadata": {},
     "output_type": "display_data"
    },
    {
     "name": "stderr",
     "output_type": "stream",
     "text": [
      "COMET INFO: Downloading registry model 'xgb-grid-search', version '1.0.0', stage None from workspace 'charlescol'...\n",
      "COMET INFO: Unzipping model to 'C:\\\\Users\\\\Marcos\\\\Documents\\\\UdeM\\\\IFT6758\\\\Project\\\\Mile_3\\\\NHL-Notebooks\\\\milestone_3\\\\Final_Models' ...\n",
      "COMET INFO: done!\n"
     ]
    }
   ],
   "source": [
    "dash = dashboard.dashboard()\n",
    "dash.create_layaout()"
   ]
  },
  {
   "cell_type": "code",
   "execution_count": null,
   "id": "b425556d",
   "metadata": {},
   "outputs": [],
   "source": []
  }
 ],
 "metadata": {
  "kernelspec": {
   "display_name": "Python 3",
   "language": "python",
   "name": "python3"
  },
  "language_info": {
   "codemirror_mode": {
    "name": "ipython",
    "version": 3
   },
   "file_extension": ".py",
   "mimetype": "text/x-python",
   "name": "python",
   "nbconvert_exporter": "python",
   "pygments_lexer": "ipython3",
   "version": "3.8.8"
  }
 },
 "nbformat": 4,
 "nbformat_minor": 5
}
