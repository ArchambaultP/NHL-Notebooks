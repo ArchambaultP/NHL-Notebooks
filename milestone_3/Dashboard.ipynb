{
 "cells": [
  {
   "cell_type": "code",
   "execution_count": 3,
   "id": "3c42a5e7-8183-4050-9f2f-aab63342fa18",
   "metadata": {},
   "outputs": [],
   "source": [
    "from milestone_3.features_dashboard import dashboard"
   ]
  },
  {
   "cell_type": "code",
   "execution_count": 4,
   "id": "e924bd2d",
   "metadata": {},
   "outputs": [
    {
     "data": {
      "application/vnd.jupyter.widget-view+json": {
       "model_id": "9caf8c5f466749308c6a13726c1ab2b1",
       "version_major": 2,
       "version_minor": 0
      },
      "text/plain": [
       "Box(children=(GridspecLayout(children=(Button(button_style='success', description='DOWNLOAD/SET Model', layout…"
      ]
     },
     "metadata": {},
     "output_type": "display_data"
    }
   ],
   "source": [
    "dash = dashboard.dashboard()\n",
    "dash.create_layaout()"
   ]
  },
  {
   "cell_type": "code",
   "execution_count": null,
   "id": "b425556d",
   "metadata": {},
   "outputs": [],
   "source": []
  }
 ],
 "metadata": {
  "kernelspec": {
   "display_name": "Python 3 (ipykernel)",
   "language": "python",
   "name": "python3"
  },
  "language_info": {
   "codemirror_mode": {
    "name": "ipython",
    "version": 3
   },
   "file_extension": ".py",
   "mimetype": "text/x-python",
   "name": "python",
   "nbconvert_exporter": "python",
   "pygments_lexer": "ipython3",
   "version": "3.8.8"
  }
 },
 "nbformat": 4,
 "nbformat_minor": 5
}
