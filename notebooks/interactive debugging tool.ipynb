{
 "cells": [
  {
   "cell_type": "code",
   "execution_count": 1,
   "source": [
    "from matplotlib import pyplot as plt\r\n",
    "from typing import Callable, Dict, Any\r\n",
    "import matplotlib.image as mpimg\r\n",
    "import os\r\n",
    "import json\r\n",
    "import ipywidgets as widgets"
   ],
   "outputs": [],
   "metadata": {}
  },
  {
   "cell_type": "code",
   "execution_count": 2,
   "source": [
    "img = mpimg.imread('figures/nhl_rink.png')"
   ],
   "outputs": [],
   "metadata": {}
  },
  {
   "cell_type": "code",
   "execution_count": 3,
   "source": [
    "dataset_file_names = os.listdir(os.path.join('dataset'))"
   ],
   "outputs": [],
   "metadata": {}
  },
  {
   "cell_type": "code",
   "execution_count": 4,
   "source": [
    "def get_print_play_event_info_fn(game: Dict[str, Any]) -> Callable[[int], None]:\r\n",
    "    def print_play_event_info(play_event_index: int):\r\n",
    "        event = game['liveData']['plays']['allPlays'][play_event_index]\r\n",
    "        event_coordinates = event['coordinates']\r\n",
    "        if event_coordinates:\r\n",
    "            plt.plot(event_coordinates['x'], event_coordinates['y'], 'bo')\r\n",
    "            plt.imshow(img, extent=[-100, 100, -42.5, 42.5])\r\n",
    "        \r\n",
    "        print(json.dumps(event, indent=2))\r\n",
    "    return print_play_event_info\r\n"
   ],
   "outputs": [],
   "metadata": {}
  },
  {
   "cell_type": "code",
   "execution_count": 5,
   "source": [
    "def get_print_game_events(dataset: Dict[str, Any]) -> Callable[[int], None]:\r\n",
    "    def print_game_events(game_index: int):\r\n",
    "        game = dataset[game_index]\r\n",
    "        widgets.interact(get_print_play_event_info_fn(game), play_event_index=(0, len(game['liveData']['plays']['allPlays']) - 1, 1))\r\n",
    "    return print_game_events"
   ],
   "outputs": [],
   "metadata": {}
  },
  {
   "cell_type": "code",
   "execution_count": 14,
   "source": [
    "class Datasets:\r\n",
    "    def __init__(self) -> None:\r\n",
    "        self.__loaded_datasets: Dict[str, Any] = {}\r\n",
    "\r\n",
    "    def print_dataset(self, file_name):\r\n",
    "        if file_name not in self.__loaded_datasets:\r\n",
    "            dataset = json.load(open(os.path.join('dataset', file_name)))\r\n",
    "            self.__loaded_datasets[file_name] = dataset\r\n",
    "        else:\r\n",
    "            dataset = self.__loaded_datasets[file_name]\r\n",
    "        print_game_events = get_print_game_events(dataset)\r\n",
    "        widgets.interact(print_game_events, game_index=(0, len(dataset) - 1, 1))\r\n",
    "\r\n",
    "datasets = Datasets()"
   ],
   "outputs": [],
   "metadata": {}
  },
  {
   "cell_type": "code",
   "execution_count": 15,
   "source": [
    "widgets.interact(datasets.print_dataset, file_name=dataset_file_names)"
   ],
   "outputs": [
    {
     "output_type": "display_data",
     "data": {
      "application/vnd.jupyter.widget-view+json": {
       "version_major": 2,
       "version_minor": 0,
       "model_id": "36f31313faa44313815e08ebea38f792"
      },
      "text/plain": [
       "interactive(children=(Dropdown(description='file_name', options=('2016_playoffs.json', '2016_regular.json', '2…"
      ]
     },
     "metadata": {}
    },
    {
     "output_type": "execute_result",
     "data": {
      "text/plain": [
       "<function ipywidgets.widgets.interaction._InteractFactory.__call__.<locals>.<lambda>(*args, **kwargs)>"
      ]
     },
     "metadata": {},
     "execution_count": 15
    }
   ],
   "metadata": {}
  }
 ],
 "metadata": {
  "orig_nbformat": 4,
  "language_info": {
   "name": "python",
   "version": "3.9.5",
   "mimetype": "text/x-python",
   "codemirror_mode": {
    "name": "ipython",
    "version": 3
   },
   "pygments_lexer": "ipython3",
   "nbconvert_exporter": "python",
   "file_extension": ".py"
  },
  "kernelspec": {
   "name": "python3",
   "display_name": "Python 3.9.5 64-bit ('venv': venv)"
  },
  "interpreter": {
   "hash": "507b243e0d5fb0275a69638df01d8d03553a1b1f73883a48c5a62c90702759bf"
  }
 },
 "nbformat": 4,
 "nbformat_minor": 2
}